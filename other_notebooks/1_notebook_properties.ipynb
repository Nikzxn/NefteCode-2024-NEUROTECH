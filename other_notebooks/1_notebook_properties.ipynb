{
 "cells": [
  {
   "cell_type": "code",
   "execution_count": 1,
   "metadata": {},
   "outputs": [],
   "source": [
    "import numpy as np\n",
    "import pandas as pd\n",
    "import seaborn as sns\n",
    "import matplotlib.pyplot as plt"
   ]
  },
  {
   "cell_type": "code",
   "execution_count": 6,
   "metadata": {},
   "outputs": [
    {
     "data": {
      "text/html": [
       "<div>\n",
       "<style scoped>\n",
       "    .dataframe tbody tr th:only-of-type {\n",
       "        vertical-align: middle;\n",
       "    }\n",
       "\n",
       "    .dataframe tbody tr th {\n",
       "        vertical-align: top;\n",
       "    }\n",
       "\n",
       "    .dataframe thead th {\n",
       "        text-align: right;\n",
       "    }\n",
       "</style>\n",
       "<table border=\"1\" class=\"dataframe\">\n",
       "  <thead>\n",
       "    <tr style=\"text-align: right;\">\n",
       "      <th></th>\n",
       "      <th>oil_type</th>\n",
       "      <th>blend_id</th>\n",
       "      <th>oil_property_param_title</th>\n",
       "      <th>oil_property_param_value</th>\n",
       "      <th>component_name</th>\n",
       "      <th>component_class</th>\n",
       "      <th>polymer</th>\n",
       "      <th>component_property_param_title</th>\n",
       "      <th>component_property_param_value</th>\n",
       "      <th>smiles</th>\n",
       "    </tr>\n",
       "  </thead>\n",
       "  <tbody>\n",
       "    <tr>\n",
       "      <th>0</th>\n",
       "      <td>3fa07e0a-415c-496d-b88b-557855cb3e77</td>\n",
       "      <td>49743a76-a614-11ee-9529-005056921581</td>\n",
       "      <td>4c7a51f1-dc82-41dc-92fa-772535c2c70c</td>\n",
       "      <td>15.58</td>\n",
       "      <td>615537f6-1f8f-4240-a5e9-8f7be344ecd3</td>\n",
       "      <td>базовое масло 1 гр</td>\n",
       "      <td>no</td>\n",
       "      <td>02236ee6-5eec-4368-a2e4-6f2e73fb0f96</td>\n",
       "      <td>0.0000</td>\n",
       "      <td>CCCCC</td>\n",
       "    </tr>\n",
       "    <tr>\n",
       "      <th>1</th>\n",
       "      <td>3fa07e0a-415c-496d-b88b-557855cb3e77</td>\n",
       "      <td>49743a76-a614-11ee-9529-005056921581</td>\n",
       "      <td>4c7a51f1-dc82-41dc-92fa-772535c2c70c</td>\n",
       "      <td>15.58</td>\n",
       "      <td>615537f6-1f8f-4240-a5e9-8f7be344ecd3</td>\n",
       "      <td>базовое масло 1 гр</td>\n",
       "      <td>no</td>\n",
       "      <td>2511714c-ab50-4566-bc92-8e4095d87d01</td>\n",
       "      <td>0.0000</td>\n",
       "      <td>CCCCC</td>\n",
       "    </tr>\n",
       "    <tr>\n",
       "      <th>2</th>\n",
       "      <td>3fa07e0a-415c-496d-b88b-557855cb3e77</td>\n",
       "      <td>49743a76-a614-11ee-9529-005056921581</td>\n",
       "      <td>4c7a51f1-dc82-41dc-92fa-772535c2c70c</td>\n",
       "      <td>15.58</td>\n",
       "      <td>615537f6-1f8f-4240-a5e9-8f7be344ecd3</td>\n",
       "      <td>базовое масло 1 гр</td>\n",
       "      <td>no</td>\n",
       "      <td>38b06d9a-bcf2-40de-8e1b-9c3988c42406</td>\n",
       "      <td>0.0001</td>\n",
       "      <td>CCCCC</td>\n",
       "    </tr>\n",
       "  </tbody>\n",
       "</table>\n",
       "</div>"
      ],
      "text/plain": [
       "                               oil_type                              blend_id  \\\n",
       "0  3fa07e0a-415c-496d-b88b-557855cb3e77  49743a76-a614-11ee-9529-005056921581   \n",
       "1  3fa07e0a-415c-496d-b88b-557855cb3e77  49743a76-a614-11ee-9529-005056921581   \n",
       "2  3fa07e0a-415c-496d-b88b-557855cb3e77  49743a76-a614-11ee-9529-005056921581   \n",
       "\n",
       "               oil_property_param_title  oil_property_param_value  \\\n",
       "0  4c7a51f1-dc82-41dc-92fa-772535c2c70c                     15.58   \n",
       "1  4c7a51f1-dc82-41dc-92fa-772535c2c70c                     15.58   \n",
       "2  4c7a51f1-dc82-41dc-92fa-772535c2c70c                     15.58   \n",
       "\n",
       "                         component_name     component_class polymer  \\\n",
       "0  615537f6-1f8f-4240-a5e9-8f7be344ecd3  базовое масло 1 гр      no   \n",
       "1  615537f6-1f8f-4240-a5e9-8f7be344ecd3  базовое масло 1 гр      no   \n",
       "2  615537f6-1f8f-4240-a5e9-8f7be344ecd3  базовое масло 1 гр      no   \n",
       "\n",
       "         component_property_param_title  component_property_param_value smiles  \n",
       "0  02236ee6-5eec-4368-a2e4-6f2e73fb0f96                          0.0000  CCCCC  \n",
       "1  2511714c-ab50-4566-bc92-8e4095d87d01                          0.0000  CCCCC  \n",
       "2  38b06d9a-bcf2-40de-8e1b-9c3988c42406                          0.0001  CCCCC  "
      ]
     },
     "execution_count": 6,
     "metadata": {},
     "output_type": "execute_result"
    }
   ],
   "source": [
    "df = pd.read_csv('../data/train_data_fix_concat.csv')\n",
    "df_test = pd.read_csv('../data/test_data_fix_concat.csv')\n",
    "df.head(3)"
   ]
  },
  {
   "cell_type": "markdown",
   "metadata": {},
   "source": [
    "Заполним пропуски в данных тупыми значениями"
   ]
  },
  {
   "cell_type": "code",
   "execution_count": 7,
   "metadata": {},
   "outputs": [],
   "source": [
    "df['oil_type'] = df['oil_type'].fillna(value='unknown')\n",
    "df['oil_property_param_value'] = df['oil_property_param_value'].fillna(value=-1)\n",
    "df['component_class'] = df['component_class'].fillna(value='unknown')\n",
    "df['component_property_param_value'] = df['component_property_param_value'].fillna(value=-1)\n",
    "df['smiles'] = df['smiles'].fillna(value='unknown')\n",
    "df['polymer'] = df['polymer'].fillna(value='unknown')"
   ]
  },
  {
   "cell_type": "markdown",
   "metadata": {},
   "source": [
    "И в тесте тоже"
   ]
  },
  {
   "cell_type": "code",
   "execution_count": 8,
   "metadata": {},
   "outputs": [],
   "source": [
    "df_test['oil_type'] = df_test['oil_type'].fillna(value='unknown')\n",
    "df_test['oil_property_param_value'] = df_test['oil_property_param_value'].fillna(value=-1)\n",
    "df_test['component_class'] = df_test['component_class'].fillna(value='unknown')\n",
    "df_test['component_property_param_value'] = df_test['component_property_param_value'].fillna(value=-1)\n",
    "df_test['smiles'] = df_test['smiles'].fillna(value='unknown')\n",
    "df_test['polymer'] = df_test['polymer'].fillna(value='unknown')"
   ]
  },
  {
   "cell_type": "markdown",
   "metadata": {},
   "source": [
    "Сделаем список из blend_id в train датасете у которых в свойствах есть наш таргет-свойство"
   ]
  },
  {
   "cell_type": "code",
   "execution_count": 9,
   "metadata": {},
   "outputs": [],
   "source": [
    "blend_ids_with_target = df[df['oil_property_param_title'] == 'ad7e6027-00b8-4c27-918c-d1561f949ad8']['blend_id'].unique().tolist()"
   ]
  },
  {
   "cell_type": "code",
   "execution_count": 10,
   "metadata": {},
   "outputs": [],
   "source": [
    "df = df[df['blend_id'].isin(blend_ids_with_target)].reset_index(drop=True)"
   ]
  },
  {
   "cell_type": "markdown",
   "metadata": {},
   "source": [
    "Создаем таблицу с колонками component_property"
   ]
  },
  {
   "cell_type": "code",
   "execution_count": 11,
   "metadata": {},
   "outputs": [],
   "source": [
    "pivot_df = df.pivot_table(index=['oil_type', 'blend_id', 'oil_property_param_title', 'oil_property_param_value', 'component_name', 'component_class', 'smiles', 'polymer'],\n",
    "                          columns='component_property_param_title',\n",
    "                          values='component_property_param_value',\n",
    "                          fill_value=np.nan).reset_index()\n",
    "\n",
    "# Rename columns\n",
    "pivot_df.columns.name = None"
   ]
  },
  {
   "cell_type": "markdown",
   "metadata": {},
   "source": [
    "Также в тесте"
   ]
  },
  {
   "cell_type": "code",
   "execution_count": 12,
   "metadata": {},
   "outputs": [],
   "source": [
    "pivot_df_test = df_test.pivot_table(index=['oil_type', 'blend_id', 'oil_property_param_title', 'oil_property_param_value', 'component_name', 'component_class', 'smiles', 'polymer'],\n",
    "                          columns='component_property_param_title',\n",
    "                          values='component_property_param_value',\n",
    "                          fill_value=np.nan).reset_index()\n",
    "\n",
    "# Rename columns\n",
    "pivot_df_test.columns.name = None"
   ]
  },
  {
   "cell_type": "code",
   "execution_count": 13,
   "metadata": {},
   "outputs": [
    {
     "name": "stdout",
     "output_type": "stream",
     "text": [
      "Размер датасета train: (16797, 51)\n",
      "Размер датасета test: (6420, 55)\n"
     ]
    }
   ],
   "source": [
    "print(f'Размер датасета train: {pivot_df.shape}')\n",
    "print(f'Размер датасета test: {pivot_df_test.shape}')"
   ]
  },
  {
   "cell_type": "markdown",
   "metadata": {},
   "source": [
    "В данный момент в наших смесях из трейн датасета здесь есть свойство-таргет, значение которого нужно занести в новую колонку"
   ]
  },
  {
   "cell_type": "markdown",
   "metadata": {},
   "source": [
    "Посмотрим на значения этого свойства для каждого бленда"
   ]
  },
  {
   "cell_type": "code",
   "execution_count": 14,
   "metadata": {},
   "outputs": [
    {
     "data": {
      "text/html": [
       "<div>\n",
       "<style scoped>\n",
       "    .dataframe tbody tr th:only-of-type {\n",
       "        vertical-align: middle;\n",
       "    }\n",
       "\n",
       "    .dataframe tbody tr th {\n",
       "        vertical-align: top;\n",
       "    }\n",
       "\n",
       "    .dataframe thead th {\n",
       "        text-align: right;\n",
       "    }\n",
       "</style>\n",
       "<table border=\"1\" class=\"dataframe\">\n",
       "  <thead>\n",
       "    <tr style=\"text-align: right;\">\n",
       "      <th></th>\n",
       "      <th>blend_id</th>\n",
       "      <th>oil_property_param_value</th>\n",
       "    </tr>\n",
       "  </thead>\n",
       "  <tbody>\n",
       "    <tr>\n",
       "      <th>42</th>\n",
       "      <td>007b4d7a-b1f8-11ed-93b4-005056921581</td>\n",
       "      <td>13360.0</td>\n",
       "    </tr>\n",
       "    <tr>\n",
       "      <th>70</th>\n",
       "      <td>04aed446-6beb-11ed-87f9-005056921581</td>\n",
       "      <td>7416.0</td>\n",
       "    </tr>\n",
       "  </tbody>\n",
       "</table>\n",
       "</div>"
      ],
      "text/plain": [
       "                                blend_id  oil_property_param_value\n",
       "42  007b4d7a-b1f8-11ed-93b4-005056921581                   13360.0\n",
       "70  04aed446-6beb-11ed-87f9-005056921581                    7416.0"
      ]
     },
     "execution_count": 14,
     "metadata": {},
     "output_type": "execute_result"
    }
   ],
   "source": [
    "pivot_df[pivot_df['oil_property_param_title'] == 'ad7e6027-00b8-4c27-918c-d1561f949ad8'][['blend_id', 'oil_property_param_value']].drop_duplicates().head(2)"
   ]
  },
  {
   "cell_type": "code",
   "execution_count": 15,
   "metadata": {},
   "outputs": [],
   "source": [
    "index_columns = pivot_df.drop(columns=['oil_property_param_title', 'oil_property_param_value']).columns"
   ]
  },
  {
   "cell_type": "code",
   "execution_count": 16,
   "metadata": {},
   "outputs": [],
   "source": [
    "targets_values = pivot_df[pivot_df['oil_property_param_title'] == 'ad7e6027-00b8-4c27-918c-d1561f949ad8'][['blend_id', 'oil_property_param_value']].drop_duplicates()"
   ]
  },
  {
   "cell_type": "code",
   "execution_count": 17,
   "metadata": {},
   "outputs": [],
   "source": [
    "merged_df = pd.merge(pivot_df, targets_values, on='blend_id', how='left')"
   ]
  },
  {
   "cell_type": "code",
   "execution_count": 110,
   "metadata": {},
   "outputs": [],
   "source": [
    "merged_df = merged_df[merged_df['oil_property_param_title'] != 'ad7e6027-00b8-4c27-918c-d1561f949ad8']"
   ]
  },
  {
   "cell_type": "code",
   "execution_count": 111,
   "metadata": {},
   "outputs": [],
   "source": [
    "merged_df = merged_df.rename(columns={'oil_property_param_value_y': 'target', 'oil_property_param_value_x': 'oil_property_param_value'})"
   ]
  },
  {
   "cell_type": "code",
   "execution_count": 112,
   "metadata": {},
   "outputs": [
    {
     "data": {
      "text/plain": [
       "(14716, 51)"
      ]
     },
     "execution_count": 112,
     "metadata": {},
     "output_type": "execute_result"
    }
   ],
   "source": [
    "merged_df.shape"
   ]
  },
  {
   "cell_type": "markdown",
   "metadata": {},
   "source": [
    "Добавим колонку target заполненную nan к pivot_df_test"
   ]
  },
  {
   "cell_type": "code",
   "execution_count": 113,
   "metadata": {},
   "outputs": [],
   "source": [
    "pivot_df_test['target'] = np.nan"
   ]
  },
  {
   "cell_type": "code",
   "execution_count": 114,
   "metadata": {},
   "outputs": [],
   "source": [
    "final_df = pd.concat([merged_df, pivot_df_test], ignore_index=True)"
   ]
  },
  {
   "cell_type": "code",
   "execution_count": 126,
   "metadata": {},
   "outputs": [
    {
     "data": {
      "text/plain": [
       "(21136, 84)"
      ]
     },
     "execution_count": 126,
     "metadata": {},
     "output_type": "execute_result"
    }
   ],
   "source": [
    "final_df.shape"
   ]
  },
  {
   "cell_type": "code",
   "execution_count": 130,
   "metadata": {},
   "outputs": [
    {
     "data": {
      "text/plain": [
       "Index(['oil_type', 'blend_id', 'oil_property_param_title',\n",
       "       'oil_property_param_value', 'component_name', 'component_class',\n",
       "       'smiles', 'component_property_009c5608-34ee-44ec-a294-a6252d691af3',\n",
       "       'component_property_02236ee6-5eec-4368-a2e4-6f2e73fb0f96',\n",
       "       'component_property_0817d2c9-2478-40d2-aab3-6b055f8071f0',\n",
       "       'component_property_08db8d40-6b81-44ab-ab91-4b482ebc4187',\n",
       "       'component_property_0bede6ba-5118-4a24-8c61-4df27f5746d7',\n",
       "       'component_property_0ec6a170-4283-4466-8e16-ab71675053d6',\n",
       "       'component_property_1931ea10-9783-4065-a77c-04532d7d0559',\n",
       "       'component_property_1a8ce77b-9eac-489d-b6fc-4d7df0b74092',\n",
       "       'component_property_1da38bd4-1cca-467b-b480-76c4fac65d5f',\n",
       "       'component_property_2511714c-ab50-4566-bc92-8e4095d87d01',\n",
       "       'component_property_266a1a34-14d1-49f7-b1ca-d354f9ff6ce8',\n",
       "       'component_property_2a6e6683-e8f2-49ae-8114-b752a1e97c60',\n",
       "       'component_property_2caf7dfa-de92-43ba-811d-ce9bbac9443a',\n",
       "       'component_property_38b06d9a-bcf2-40de-8e1b-9c3988c42406',\n",
       "       'component_property_3f7871a6-3ebc-4d7c-a5c4-3867820048e1',\n",
       "       'component_property_5495e254-d5be-40ab-a96a-bb5da1c4da57',\n",
       "       'component_property_594a3970-ec4a-48bb-bd37-c00e2ce90d83',\n",
       "       'component_property_59fae799-21eb-4093-b36a-5a9dc69119f7',\n",
       "       'component_property_733eb700-e7a9-45de-bc8e-3bb15b7f5852',\n",
       "       'component_property_74a59a22-3ccd-4d6e-9e3e-f9c77a9ccfbd',\n",
       "       'component_property_7eddcad3-d00a-47b8-837c-79a18ac868c3',\n",
       "       'component_property_8290706a-4124-4fef-a0d0-553541fc844a',\n",
       "       'component_property_89b4c419-0082-4f0a-b411-81487c96b76c',\n",
       "       'component_property_89bf1ac2-0a0b-4e3e-8a75-7b364c2d0558',\n",
       "       'component_property_8b0f4e99-1666-48b5-a378-c87b80ed97a9',\n",
       "       'component_property_908bf166-393a-4e90-93d8-5d7b9944d637',\n",
       "       'component_property_9703e283-f529-4fdb-8d84-24413b2b4338',\n",
       "       'component_property_99b4f14e-593a-400b-a294-fe040d0e8923',\n",
       "       'component_property_9c983e26-64ad-4505-9c8a-8b7d65922e2c',\n",
       "       'component_property_a51e86b9-4811-475b-81d6-9af4fa2f5cf8',\n",
       "       'component_property_a59e9688-c5e5-4488-a911-2fc21e0355be',\n",
       "       'component_property_af687034-57b7-4f6c-b454-dcf0fa322978',\n",
       "       'component_property_bc964980-3479-4d83-ae4e-154509b06ebc',\n",
       "       'component_property_c11112c4-487f-4e2c-812d-84a29b240b69',\n",
       "       'component_property_d037c9ef-a6e1-4328-832a-9db50bbb92af',\n",
       "       'component_property_d12a35d5-14a3-4828-9c59-bff8e912034d',\n",
       "       'component_property_dc511668-8a45-42ae-ab39-aeadd5f3a0f3',\n",
       "       'component_property_dc908e5f-ccb4-44cb-a605-985ebf5b0d1c',\n",
       "       'component_property_de405dfd-ef89-4b81-80f0-c25147817cdc',\n",
       "       'component_property_e1e7b28a-e529-4e7a-8d60-3e24178ac9fe',\n",
       "       'component_property_e3983d82-8773-4e46-8f88-147098d7b87a',\n",
       "       'component_property_f216a0c7-d453-4b15-9b4a-7647cbe2d874',\n",
       "       'component_property_f400be8b-3bed-4f17-8a12-9fabd9b73586', 'target',\n",
       "       'component_property_00f815e2-e93a-4bac-9e2b-9733d77ab1ea',\n",
       "       'component_property_03f58ac0-8bd5-4ddd-92ae-15707a2678c5',\n",
       "       'component_property_049e5cb9-9c20-438c-9ef2-96870712a0be',\n",
       "       'component_property_085c81d0-1885-4560-a4d3-08f9c0d108e2',\n",
       "       'component_property_161776ad-2131-4557-a1f2-995bacb90bf0',\n",
       "       'component_property_24acf244-3846-49a7-be19-ebbff58fde91',\n",
       "       'component_property_2bf4e562-53bd-4e6f-9f83-c30a892170e1',\n",
       "       'component_property_33fd9876-db06-478c-8993-17dd5d9d698a',\n",
       "       'component_property_4c7a51f1-dc82-41dc-92fa-772535c2c70c',\n",
       "       'component_property_4e30b8aa-0f2e-4732-a8a2-3b562bc1ffe9',\n",
       "       'component_property_50d7e65f-df1c-4e73-8961-9608846cf1d3',\n",
       "       'component_property_52178b55-5b8f-48c4-8e8c-021f1facf40a',\n",
       "       'component_property_53d6b944-dbbd-40ee-a5b3-89bd0c983ab9',\n",
       "       'component_property_59a51599-1085-4a3e-9623-0a819b722db3',\n",
       "       'component_property_5cf8e492-dfea-4ecb-8799-a97989c46256',\n",
       "       'component_property_5f1a9612-c626-4f94-8e98-6a103e4f07ef',\n",
       "       'component_property_6b664718-885c-45b5-a924-9f220f760125',\n",
       "       'component_property_76287f81-2806-481a-8dc6-7274a761e2f9',\n",
       "       'component_property_7fa1099c-cc3d-4bc2-ab0b-daa4fce8002e',\n",
       "       'component_property_7fde038e-937b-4420-a4de-daf51b2ab54a',\n",
       "       'component_property_834c8f63-4212-4e7e-b28e-2c79a42eb52f',\n",
       "       'component_property_928fc6d7-374c-45c9-99bd-39de63a3f140',\n",
       "       'component_property_943ccc3a-58c3-4ef7-a41f-02aa4956aeb1',\n",
       "       'component_property_94d89046-80c9-41a8-9d0c-d587d9ed18c2',\n",
       "       'component_property_9afb4d3a-4889-4144-a2fe-647fc146776b',\n",
       "       'component_property_9e2de643-ddca-487e-b9e7-69b25d8662bf',\n",
       "       'component_property_a21ee2d5-8f50-40ce-b0b4-d6aec1130eee',\n",
       "       'component_property_a8bc9c11-42cb-4452-8cc8-8f96eb3d7705',\n",
       "       'component_property_b38cd6d1-cc71-4771-9d9c-7b37ae274fe9',\n",
       "       'component_property_c8ae5de6-e2ae-45ed-bf9a-53e0fba25b52',\n",
       "       'component_property_d6eff30f-788e-48a2-b2bd-cbba188f4e63',\n",
       "       'component_property_ebe9475f-b29f-4ffd-86af-a16a8321f1ee',\n",
       "       'component_property_f6cc205c-a44d-40e5-9462-2eab4a673e2a'],\n",
       "      dtype='object')"
      ]
     },
     "execution_count": 130,
     "metadata": {},
     "output_type": "execute_result"
    }
   ],
   "source": [
    "final_df.columns"
   ]
  },
  {
   "cell_type": "code",
   "execution_count": 127,
   "metadata": {},
   "outputs": [],
   "source": [
    "index_columns = final_df.drop(columns=['oil_property_param_title', 'oil_property_param_value']).columns.to_list()"
   ]
  },
  {
   "cell_type": "code",
   "execution_count": 128,
   "metadata": {},
   "outputs": [],
   "source": [
    "final_df_pivot = final_df.pivot_table(index=index_columns,\n",
    "                          columns='oil_property_param_title',\n",
    "                          values='oil_property_param_value',\n",
    "                          fill_value=np.nan).reset_index()\n",
    "\n",
    "# Rename columns\n",
    "final_df_pivot.columns.name = None"
   ]
  },
  {
   "cell_type": "code",
   "execution_count": 129,
   "metadata": {},
   "outputs": [
    {
     "data": {
      "text/html": [
       "<div>\n",
       "<style scoped>\n",
       "    .dataframe tbody tr th:only-of-type {\n",
       "        vertical-align: middle;\n",
       "    }\n",
       "\n",
       "    .dataframe tbody tr th {\n",
       "        vertical-align: top;\n",
       "    }\n",
       "\n",
       "    .dataframe thead th {\n",
       "        text-align: right;\n",
       "    }\n",
       "</style>\n",
       "<table border=\"1\" class=\"dataframe\">\n",
       "  <thead>\n",
       "    <tr style=\"text-align: right;\">\n",
       "      <th></th>\n",
       "      <th>oil_type</th>\n",
       "      <th>blend_id</th>\n",
       "      <th>component_name</th>\n",
       "      <th>component_class</th>\n",
       "      <th>smiles</th>\n",
       "      <th>component_property_009c5608-34ee-44ec-a294-a6252d691af3</th>\n",
       "      <th>component_property_02236ee6-5eec-4368-a2e4-6f2e73fb0f96</th>\n",
       "      <th>component_property_0817d2c9-2478-40d2-aab3-6b055f8071f0</th>\n",
       "      <th>component_property_08db8d40-6b81-44ab-ab91-4b482ebc4187</th>\n",
       "      <th>component_property_0bede6ba-5118-4a24-8c61-4df27f5746d7</th>\n",
       "      <th>...</th>\n",
       "      <th>component_property_94d89046-80c9-41a8-9d0c-d587d9ed18c2</th>\n",
       "      <th>component_property_9afb4d3a-4889-4144-a2fe-647fc146776b</th>\n",
       "      <th>component_property_9e2de643-ddca-487e-b9e7-69b25d8662bf</th>\n",
       "      <th>component_property_a21ee2d5-8f50-40ce-b0b4-d6aec1130eee</th>\n",
       "      <th>component_property_a8bc9c11-42cb-4452-8cc8-8f96eb3d7705</th>\n",
       "      <th>component_property_b38cd6d1-cc71-4771-9d9c-7b37ae274fe9</th>\n",
       "      <th>component_property_c8ae5de6-e2ae-45ed-bf9a-53e0fba25b52</th>\n",
       "      <th>component_property_d6eff30f-788e-48a2-b2bd-cbba188f4e63</th>\n",
       "      <th>component_property_ebe9475f-b29f-4ffd-86af-a16a8321f1ee</th>\n",
       "      <th>component_property_f6cc205c-a44d-40e5-9462-2eab4a673e2a</th>\n",
       "    </tr>\n",
       "  </thead>\n",
       "  <tbody>\n",
       "  </tbody>\n",
       "</table>\n",
       "<p>0 rows × 82 columns</p>\n",
       "</div>"
      ],
      "text/plain": [
       "Empty DataFrame\n",
       "Columns: [oil_type, blend_id, component_name, component_class, smiles, component_property_009c5608-34ee-44ec-a294-a6252d691af3, component_property_02236ee6-5eec-4368-a2e4-6f2e73fb0f96, component_property_0817d2c9-2478-40d2-aab3-6b055f8071f0, component_property_08db8d40-6b81-44ab-ab91-4b482ebc4187, component_property_0bede6ba-5118-4a24-8c61-4df27f5746d7, component_property_0ec6a170-4283-4466-8e16-ab71675053d6, component_property_1931ea10-9783-4065-a77c-04532d7d0559, component_property_1a8ce77b-9eac-489d-b6fc-4d7df0b74092, component_property_1da38bd4-1cca-467b-b480-76c4fac65d5f, component_property_2511714c-ab50-4566-bc92-8e4095d87d01, component_property_266a1a34-14d1-49f7-b1ca-d354f9ff6ce8, component_property_2a6e6683-e8f2-49ae-8114-b752a1e97c60, component_property_2caf7dfa-de92-43ba-811d-ce9bbac9443a, component_property_38b06d9a-bcf2-40de-8e1b-9c3988c42406, component_property_3f7871a6-3ebc-4d7c-a5c4-3867820048e1, component_property_5495e254-d5be-40ab-a96a-bb5da1c4da57, component_property_594a3970-ec4a-48bb-bd37-c00e2ce90d83, component_property_59fae799-21eb-4093-b36a-5a9dc69119f7, component_property_733eb700-e7a9-45de-bc8e-3bb15b7f5852, component_property_74a59a22-3ccd-4d6e-9e3e-f9c77a9ccfbd, component_property_7eddcad3-d00a-47b8-837c-79a18ac868c3, component_property_8290706a-4124-4fef-a0d0-553541fc844a, component_property_89b4c419-0082-4f0a-b411-81487c96b76c, component_property_89bf1ac2-0a0b-4e3e-8a75-7b364c2d0558, component_property_8b0f4e99-1666-48b5-a378-c87b80ed97a9, component_property_908bf166-393a-4e90-93d8-5d7b9944d637, component_property_9703e283-f529-4fdb-8d84-24413b2b4338, component_property_99b4f14e-593a-400b-a294-fe040d0e8923, component_property_9c983e26-64ad-4505-9c8a-8b7d65922e2c, component_property_a51e86b9-4811-475b-81d6-9af4fa2f5cf8, component_property_a59e9688-c5e5-4488-a911-2fc21e0355be, component_property_af687034-57b7-4f6c-b454-dcf0fa322978, component_property_bc964980-3479-4d83-ae4e-154509b06ebc, component_property_c11112c4-487f-4e2c-812d-84a29b240b69, component_property_d037c9ef-a6e1-4328-832a-9db50bbb92af, component_property_d12a35d5-14a3-4828-9c59-bff8e912034d, component_property_dc511668-8a45-42ae-ab39-aeadd5f3a0f3, component_property_dc908e5f-ccb4-44cb-a605-985ebf5b0d1c, component_property_de405dfd-ef89-4b81-80f0-c25147817cdc, component_property_e1e7b28a-e529-4e7a-8d60-3e24178ac9fe, component_property_e3983d82-8773-4e46-8f88-147098d7b87a, component_property_f216a0c7-d453-4b15-9b4a-7647cbe2d874, component_property_f400be8b-3bed-4f17-8a12-9fabd9b73586, target, component_property_00f815e2-e93a-4bac-9e2b-9733d77ab1ea, component_property_03f58ac0-8bd5-4ddd-92ae-15707a2678c5, component_property_049e5cb9-9c20-438c-9ef2-96870712a0be, component_property_085c81d0-1885-4560-a4d3-08f9c0d108e2, component_property_161776ad-2131-4557-a1f2-995bacb90bf0, component_property_24acf244-3846-49a7-be19-ebbff58fde91, component_property_2bf4e562-53bd-4e6f-9f83-c30a892170e1, component_property_33fd9876-db06-478c-8993-17dd5d9d698a, component_property_4c7a51f1-dc82-41dc-92fa-772535c2c70c, component_property_4e30b8aa-0f2e-4732-a8a2-3b562bc1ffe9, component_property_50d7e65f-df1c-4e73-8961-9608846cf1d3, component_property_52178b55-5b8f-48c4-8e8c-021f1facf40a, component_property_53d6b944-dbbd-40ee-a5b3-89bd0c983ab9, component_property_59a51599-1085-4a3e-9623-0a819b722db3, component_property_5cf8e492-dfea-4ecb-8799-a97989c46256, component_property_5f1a9612-c626-4f94-8e98-6a103e4f07ef, component_property_6b664718-885c-45b5-a924-9f220f760125, component_property_76287f81-2806-481a-8dc6-7274a761e2f9, component_property_7fa1099c-cc3d-4bc2-ab0b-daa4fce8002e, component_property_7fde038e-937b-4420-a4de-daf51b2ab54a, component_property_834c8f63-4212-4e7e-b28e-2c79a42eb52f, component_property_928fc6d7-374c-45c9-99bd-39de63a3f140, component_property_943ccc3a-58c3-4ef7-a41f-02aa4956aeb1, component_property_94d89046-80c9-41a8-9d0c-d587d9ed18c2, component_property_9afb4d3a-4889-4144-a2fe-647fc146776b, component_property_9e2de643-ddca-487e-b9e7-69b25d8662bf, component_property_a21ee2d5-8f50-40ce-b0b4-d6aec1130eee, component_property_a8bc9c11-42cb-4452-8cc8-8f96eb3d7705, component_property_b38cd6d1-cc71-4771-9d9c-7b37ae274fe9, component_property_c8ae5de6-e2ae-45ed-bf9a-53e0fba25b52, component_property_d6eff30f-788e-48a2-b2bd-cbba188f4e63, component_property_ebe9475f-b29f-4ffd-86af-a16a8321f1ee, component_property_f6cc205c-a44d-40e5-9462-2eab4a673e2a]\n",
       "Index: []\n",
       "\n",
       "[0 rows x 82 columns]"
      ]
     },
     "execution_count": 129,
     "metadata": {},
     "output_type": "execute_result"
    }
   ],
   "source": [
    "final_df_pivot"
   ]
  },
  {
   "cell_type": "code",
   "execution_count": 22,
   "metadata": {},
   "outputs": [],
   "source": [
    "# train_df = final_df[~pd.isna(final_df['target'])]\n",
    "# test_df = final_df[pd.isna(final_df['target'])] "
   ]
  },
  {
   "cell_type": "code",
   "execution_count": 23,
   "metadata": {},
   "outputs": [],
   "source": [
    "# train_df.shape"
   ]
  },
  {
   "cell_type": "code",
   "execution_count": 24,
   "metadata": {},
   "outputs": [],
   "source": [
    "# train_df.to_csv('data/train_preprocessed.csv', index=False)\n",
    "# test_df.to_csv('data/test_preprocessed.csv', index=False)"
   ]
  }
 ],
 "metadata": {
  "kernelspec": {
   "display_name": ".venv",
   "language": "python",
   "name": "python3"
  },
  "language_info": {
   "codemirror_mode": {
    "name": "ipython",
    "version": 3
   },
   "file_extension": ".py",
   "mimetype": "text/x-python",
   "name": "python",
   "nbconvert_exporter": "python",
   "pygments_lexer": "ipython3",
   "version": "3.12.3"
  }
 },
 "nbformat": 4,
 "nbformat_minor": 2
}
