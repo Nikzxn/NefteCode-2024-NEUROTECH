{
 "cells": [
  {
   "cell_type": "code",
   "execution_count": 1,
   "metadata": {},
   "outputs": [],
   "source": [
    "import numpy as np\n",
    "import pandas as pd\n",
    "import seaborn as sns\n",
    "import matplotlib.pyplot as plt"
   ]
  },
  {
   "cell_type": "code",
   "execution_count": 32,
   "metadata": {},
   "outputs": [
    {
     "data": {
      "text/html": [
       "<div>\n",
       "<style scoped>\n",
       "    .dataframe tbody tr th:only-of-type {\n",
       "        vertical-align: middle;\n",
       "    }\n",
       "\n",
       "    .dataframe tbody tr th {\n",
       "        vertical-align: top;\n",
       "    }\n",
       "\n",
       "    .dataframe thead th {\n",
       "        text-align: right;\n",
       "    }\n",
       "</style>\n",
       "<table border=\"1\" class=\"dataframe\">\n",
       "  <thead>\n",
       "    <tr style=\"text-align: right;\">\n",
       "      <th></th>\n",
       "      <th>oil_type</th>\n",
       "      <th>blend_id</th>\n",
       "      <th>oil_property_param_title</th>\n",
       "      <th>oil_property_param_value</th>\n",
       "      <th>component_name</th>\n",
       "      <th>component_class</th>\n",
       "      <th>polymer</th>\n",
       "      <th>component_property_param_title</th>\n",
       "      <th>component_property_param_value</th>\n",
       "      <th>smiles</th>\n",
       "    </tr>\n",
       "  </thead>\n",
       "  <tbody>\n",
       "    <tr>\n",
       "      <th>0</th>\n",
       "      <td>3fa07e0a-415c-496d-b88b-557855cb3e77</td>\n",
       "      <td>49743a76-a614-11ee-9529-005056921581</td>\n",
       "      <td>4c7a51f1-dc82-41dc-92fa-772535c2c70c</td>\n",
       "      <td>15.58</td>\n",
       "      <td>615537f6-1f8f-4240-a5e9-8f7be344ecd3</td>\n",
       "      <td>базовое масло 1 гр</td>\n",
       "      <td>no</td>\n",
       "      <td>02236ee6-5eec-4368-a2e4-6f2e73fb0f96</td>\n",
       "      <td>0.0000</td>\n",
       "      <td>CCCCC</td>\n",
       "    </tr>\n",
       "    <tr>\n",
       "      <th>1</th>\n",
       "      <td>3fa07e0a-415c-496d-b88b-557855cb3e77</td>\n",
       "      <td>49743a76-a614-11ee-9529-005056921581</td>\n",
       "      <td>4c7a51f1-dc82-41dc-92fa-772535c2c70c</td>\n",
       "      <td>15.58</td>\n",
       "      <td>615537f6-1f8f-4240-a5e9-8f7be344ecd3</td>\n",
       "      <td>базовое масло 1 гр</td>\n",
       "      <td>no</td>\n",
       "      <td>2511714c-ab50-4566-bc92-8e4095d87d01</td>\n",
       "      <td>0.0000</td>\n",
       "      <td>CCCCC</td>\n",
       "    </tr>\n",
       "    <tr>\n",
       "      <th>2</th>\n",
       "      <td>3fa07e0a-415c-496d-b88b-557855cb3e77</td>\n",
       "      <td>49743a76-a614-11ee-9529-005056921581</td>\n",
       "      <td>4c7a51f1-dc82-41dc-92fa-772535c2c70c</td>\n",
       "      <td>15.58</td>\n",
       "      <td>615537f6-1f8f-4240-a5e9-8f7be344ecd3</td>\n",
       "      <td>базовое масло 1 гр</td>\n",
       "      <td>no</td>\n",
       "      <td>38b06d9a-bcf2-40de-8e1b-9c3988c42406</td>\n",
       "      <td>0.0001</td>\n",
       "      <td>CCCCC</td>\n",
       "    </tr>\n",
       "  </tbody>\n",
       "</table>\n",
       "</div>"
      ],
      "text/plain": [
       "                               oil_type                              blend_id  \\\n",
       "0  3fa07e0a-415c-496d-b88b-557855cb3e77  49743a76-a614-11ee-9529-005056921581   \n",
       "1  3fa07e0a-415c-496d-b88b-557855cb3e77  49743a76-a614-11ee-9529-005056921581   \n",
       "2  3fa07e0a-415c-496d-b88b-557855cb3e77  49743a76-a614-11ee-9529-005056921581   \n",
       "\n",
       "               oil_property_param_title  oil_property_param_value  \\\n",
       "0  4c7a51f1-dc82-41dc-92fa-772535c2c70c                     15.58   \n",
       "1  4c7a51f1-dc82-41dc-92fa-772535c2c70c                     15.58   \n",
       "2  4c7a51f1-dc82-41dc-92fa-772535c2c70c                     15.58   \n",
       "\n",
       "                         component_name     component_class polymer  \\\n",
       "0  615537f6-1f8f-4240-a5e9-8f7be344ecd3  базовое масло 1 гр      no   \n",
       "1  615537f6-1f8f-4240-a5e9-8f7be344ecd3  базовое масло 1 гр      no   \n",
       "2  615537f6-1f8f-4240-a5e9-8f7be344ecd3  базовое масло 1 гр      no   \n",
       "\n",
       "         component_property_param_title  component_property_param_value smiles  \n",
       "0  02236ee6-5eec-4368-a2e4-6f2e73fb0f96                          0.0000  CCCCC  \n",
       "1  2511714c-ab50-4566-bc92-8e4095d87d01                          0.0000  CCCCC  \n",
       "2  38b06d9a-bcf2-40de-8e1b-9c3988c42406                          0.0001  CCCCC  "
      ]
     },
     "execution_count": 32,
     "metadata": {},
     "output_type": "execute_result"
    }
   ],
   "source": [
    "df = pd.read_csv('data/train_data_fix_concat.csv')\n",
    "df_test = pd.read_csv('data/test_data_fix_concat.csv')\n",
    "df.head(3)"
   ]
  },
  {
   "cell_type": "code",
   "execution_count": 33,
   "metadata": {},
   "outputs": [
    {
     "data": {
      "text/plain": [
       "oil_type                            1943\n",
       "blend_id                               0\n",
       "oil_property_param_title               0\n",
       "oil_property_param_value            2344\n",
       "component_name                         0\n",
       "component_class                   141105\n",
       "polymer                           141105\n",
       "component_property_param_title         0\n",
       "component_property_param_value    238777\n",
       "smiles                            141105\n",
       "dtype: int64"
      ]
     },
     "execution_count": 33,
     "metadata": {},
     "output_type": "execute_result"
    }
   ],
   "source": [
    "df.isna().sum()"
   ]
  },
  {
   "cell_type": "markdown",
   "metadata": {},
   "source": [
    "Заполним пропуски в данных тупыми значениями"
   ]
  },
  {
   "cell_type": "code",
   "execution_count": 34,
   "metadata": {},
   "outputs": [],
   "source": [
    "df['oil_type'] = df['oil_type'].fillna(value='unknown')\n",
    "df['oil_property_param_value'] = df['oil_property_param_value'].fillna(value=-1)\n",
    "df['component_class'] = df['component_class'].fillna(value='unknown')\n",
    "df['component_property_param_value'] = df['component_property_param_value'].fillna(value=-1)\n",
    "df['smiles'] = df['smiles'].fillna(value='unknown')\n",
    "df['polymer'] = df['polymer'].fillna(value='unknown')"
   ]
  },
  {
   "cell_type": "markdown",
   "metadata": {},
   "source": [
    "И в тесте тоже"
   ]
  },
  {
   "cell_type": "code",
   "execution_count": 20,
   "metadata": {},
   "outputs": [],
   "source": [
    "df_test['oil_type'] = df_test['oil_type'].fillna(value='unknown')\n",
    "df_test['oil_property_param_value'] = df_test['oil_property_param_value'].fillna(value=-1)\n",
    "df_test['component_class'] = df_test['component_class'].fillna(value='unknown')\n",
    "df_test['component_property_param_value'] = df_test['component_property_param_value'].fillna(value=-1)\n",
    "df_test['smiles'] = df_test['smiles'].fillna(value='unknown')\n",
    "df_test['polymer'] = df_test['polymer'].fillna(value='unknown')"
   ]
  },
  {
   "cell_type": "markdown",
   "metadata": {},
   "source": [
    "Сделаем список из blend_id в train датасете у которых в свойствах есть наш таргет-свойство"
   ]
  },
  {
   "cell_type": "code",
   "execution_count": 35,
   "metadata": {},
   "outputs": [],
   "source": [
    "blend_ids_with_target = df[df['oil_property_param_title'] == 'ad7e6027-00b8-4c27-918c-d1561f949ad8']['blend_id'].unique().tolist()"
   ]
  },
  {
   "cell_type": "code",
   "execution_count": 36,
   "metadata": {},
   "outputs": [],
   "source": [
    "df = df[df['blend_id'].isin(blend_ids_with_target)].reset_index(drop=True)\n",
    "# Оставим бленды где в свойствах есть наш таргет (Потеряли немного строк)"
   ]
  },
  {
   "cell_type": "markdown",
   "metadata": {},
   "source": [
    "Создаем таблицу с колонками component_property"
   ]
  },
  {
   "cell_type": "code",
   "execution_count": 37,
   "metadata": {},
   "outputs": [],
   "source": [
    "pivot_df = df.pivot_table(index=['oil_type', 'blend_id', 'oil_property_param_title', 'oil_property_param_value', 'component_name', 'component_class', 'smiles'],\n",
    "                          columns='component_property_param_title',\n",
    "                          values='component_property_param_value',\n",
    "                          fill_value=np.nan).reset_index()\n",
    "\n",
    "# Rename columns\n",
    "pivot_df.columns.name = None"
   ]
  },
  {
   "cell_type": "markdown",
   "metadata": {},
   "source": [
    "Также в тесте"
   ]
  },
  {
   "cell_type": "code",
   "execution_count": 38,
   "metadata": {},
   "outputs": [],
   "source": [
    "pivot_df_test = df_test.pivot_table(index=['oil_type', 'blend_id', 'oil_property_param_title', 'oil_property_param_value', 'component_name', 'component_class', 'smiles'],\n",
    "                          columns='component_property_param_title',\n",
    "                          values='component_property_param_value',\n",
    "                          fill_value=np.nan).reset_index()\n",
    "\n",
    "# Rename columns\n",
    "pivot_df_test.columns.name = None"
   ]
  },
  {
   "cell_type": "code",
   "execution_count": 39,
   "metadata": {},
   "outputs": [
    {
     "data": {
      "text/html": [
       "<div>\n",
       "<style scoped>\n",
       "    .dataframe tbody tr th:only-of-type {\n",
       "        vertical-align: middle;\n",
       "    }\n",
       "\n",
       "    .dataframe tbody tr th {\n",
       "        vertical-align: top;\n",
       "    }\n",
       "\n",
       "    .dataframe thead th {\n",
       "        text-align: right;\n",
       "    }\n",
       "</style>\n",
       "<table border=\"1\" class=\"dataframe\">\n",
       "  <thead>\n",
       "    <tr style=\"text-align: right;\">\n",
       "      <th></th>\n",
       "      <th>oil_type</th>\n",
       "      <th>blend_id</th>\n",
       "      <th>oil_property_param_title</th>\n",
       "      <th>oil_property_param_value</th>\n",
       "      <th>component_name</th>\n",
       "      <th>component_class</th>\n",
       "      <th>smiles</th>\n",
       "      <th>009c5608-34ee-44ec-a294-a6252d691af3</th>\n",
       "      <th>02236ee6-5eec-4368-a2e4-6f2e73fb0f96</th>\n",
       "      <th>0817d2c9-2478-40d2-aab3-6b055f8071f0</th>\n",
       "      <th>...</th>\n",
       "      <th>c11112c4-487f-4e2c-812d-84a29b240b69</th>\n",
       "      <th>d037c9ef-a6e1-4328-832a-9db50bbb92af</th>\n",
       "      <th>d12a35d5-14a3-4828-9c59-bff8e912034d</th>\n",
       "      <th>dc511668-8a45-42ae-ab39-aeadd5f3a0f3</th>\n",
       "      <th>dc908e5f-ccb4-44cb-a605-985ebf5b0d1c</th>\n",
       "      <th>de405dfd-ef89-4b81-80f0-c25147817cdc</th>\n",
       "      <th>e1e7b28a-e529-4e7a-8d60-3e24178ac9fe</th>\n",
       "      <th>e3983d82-8773-4e46-8f88-147098d7b87a</th>\n",
       "      <th>f216a0c7-d453-4b15-9b4a-7647cbe2d874</th>\n",
       "      <th>f400be8b-3bed-4f17-8a12-9fabd9b73586</th>\n",
       "    </tr>\n",
       "  </thead>\n",
       "  <tbody>\n",
       "    <tr>\n",
       "      <th>0</th>\n",
       "      <td>3fa07e0a-415c-496d-b88b-557855cb3e77</td>\n",
       "      <td>007b4d7a-b1f8-11ed-93b4-005056921581</td>\n",
       "      <td>049e5cb9-9c20-438c-9ef2-96870712a0be</td>\n",
       "      <td>0.016</td>\n",
       "      <td>0444c588-f816-4b9b-a6dc-f596b021d6e3</td>\n",
       "      <td>базовое масло 2 гр</td>\n",
       "      <td>CC(C)CCCCC</td>\n",
       "      <td>200.0</td>\n",
       "      <td>NaN</td>\n",
       "      <td>-1.0</td>\n",
       "      <td>...</td>\n",
       "      <td>-1.00</td>\n",
       "      <td>-1.0</td>\n",
       "      <td>NaN</td>\n",
       "      <td>NaN</td>\n",
       "      <td>NaN</td>\n",
       "      <td>NaN</td>\n",
       "      <td>-1.0</td>\n",
       "      <td>90.0</td>\n",
       "      <td>-1.000</td>\n",
       "      <td>-1.0</td>\n",
       "    </tr>\n",
       "    <tr>\n",
       "      <th>1</th>\n",
       "      <td>3fa07e0a-415c-496d-b88b-557855cb3e77</td>\n",
       "      <td>007b4d7a-b1f8-11ed-93b4-005056921581</td>\n",
       "      <td>049e5cb9-9c20-438c-9ef2-96870712a0be</td>\n",
       "      <td>0.016</td>\n",
       "      <td>29c23be0-273f-490d-b1dd-5a09c45eccf3</td>\n",
       "      <td>unknown</td>\n",
       "      <td>unknown</td>\n",
       "      <td>NaN</td>\n",
       "      <td>NaN</td>\n",
       "      <td>-1.0</td>\n",
       "      <td>...</td>\n",
       "      <td>3.35</td>\n",
       "      <td>-1.0</td>\n",
       "      <td>NaN</td>\n",
       "      <td>NaN</td>\n",
       "      <td>NaN</td>\n",
       "      <td>NaN</td>\n",
       "      <td>-1.0</td>\n",
       "      <td>NaN</td>\n",
       "      <td>-1.000</td>\n",
       "      <td>-1.0</td>\n",
       "    </tr>\n",
       "    <tr>\n",
       "      <th>2</th>\n",
       "      <td>3fa07e0a-415c-496d-b88b-557855cb3e77</td>\n",
       "      <td>007b4d7a-b1f8-11ed-93b4-005056921581</td>\n",
       "      <td>049e5cb9-9c20-438c-9ef2-96870712a0be</td>\n",
       "      <td>0.016</td>\n",
       "      <td>615537f6-1f8f-4240-a5e9-8f7be344ecd3</td>\n",
       "      <td>базовое масло 1 гр</td>\n",
       "      <td>CCCCC</td>\n",
       "      <td>-1.0</td>\n",
       "      <td>0.0</td>\n",
       "      <td>NaN</td>\n",
       "      <td>...</td>\n",
       "      <td>NaN</td>\n",
       "      <td>NaN</td>\n",
       "      <td>40.0</td>\n",
       "      <td>-17.0</td>\n",
       "      <td>NaN</td>\n",
       "      <td>NaN</td>\n",
       "      <td>NaN</td>\n",
       "      <td>14.0</td>\n",
       "      <td>0.017</td>\n",
       "      <td>NaN</td>\n",
       "    </tr>\n",
       "  </tbody>\n",
       "</table>\n",
       "<p>3 rows × 50 columns</p>\n",
       "</div>"
      ],
      "text/plain": [
       "                               oil_type                              blend_id  \\\n",
       "0  3fa07e0a-415c-496d-b88b-557855cb3e77  007b4d7a-b1f8-11ed-93b4-005056921581   \n",
       "1  3fa07e0a-415c-496d-b88b-557855cb3e77  007b4d7a-b1f8-11ed-93b4-005056921581   \n",
       "2  3fa07e0a-415c-496d-b88b-557855cb3e77  007b4d7a-b1f8-11ed-93b4-005056921581   \n",
       "\n",
       "               oil_property_param_title  oil_property_param_value  \\\n",
       "0  049e5cb9-9c20-438c-9ef2-96870712a0be                     0.016   \n",
       "1  049e5cb9-9c20-438c-9ef2-96870712a0be                     0.016   \n",
       "2  049e5cb9-9c20-438c-9ef2-96870712a0be                     0.016   \n",
       "\n",
       "                         component_name     component_class      smiles  \\\n",
       "0  0444c588-f816-4b9b-a6dc-f596b021d6e3  базовое масло 2 гр  CC(C)CCCCC   \n",
       "1  29c23be0-273f-490d-b1dd-5a09c45eccf3             unknown     unknown   \n",
       "2  615537f6-1f8f-4240-a5e9-8f7be344ecd3  базовое масло 1 гр       CCCCC   \n",
       "\n",
       "   009c5608-34ee-44ec-a294-a6252d691af3  02236ee6-5eec-4368-a2e4-6f2e73fb0f96  \\\n",
       "0                                 200.0                                   NaN   \n",
       "1                                   NaN                                   NaN   \n",
       "2                                  -1.0                                   0.0   \n",
       "\n",
       "   0817d2c9-2478-40d2-aab3-6b055f8071f0  ...  \\\n",
       "0                                  -1.0  ...   \n",
       "1                                  -1.0  ...   \n",
       "2                                   NaN  ...   \n",
       "\n",
       "   c11112c4-487f-4e2c-812d-84a29b240b69  d037c9ef-a6e1-4328-832a-9db50bbb92af  \\\n",
       "0                                 -1.00                                  -1.0   \n",
       "1                                  3.35                                  -1.0   \n",
       "2                                   NaN                                   NaN   \n",
       "\n",
       "   d12a35d5-14a3-4828-9c59-bff8e912034d  dc511668-8a45-42ae-ab39-aeadd5f3a0f3  \\\n",
       "0                                   NaN                                   NaN   \n",
       "1                                   NaN                                   NaN   \n",
       "2                                  40.0                                 -17.0   \n",
       "\n",
       "   dc908e5f-ccb4-44cb-a605-985ebf5b0d1c  de405dfd-ef89-4b81-80f0-c25147817cdc  \\\n",
       "0                                   NaN                                   NaN   \n",
       "1                                   NaN                                   NaN   \n",
       "2                                   NaN                                   NaN   \n",
       "\n",
       "   e1e7b28a-e529-4e7a-8d60-3e24178ac9fe  e3983d82-8773-4e46-8f88-147098d7b87a  \\\n",
       "0                                  -1.0                                  90.0   \n",
       "1                                  -1.0                                   NaN   \n",
       "2                                   NaN                                  14.0   \n",
       "\n",
       "   f216a0c7-d453-4b15-9b4a-7647cbe2d874  f400be8b-3bed-4f17-8a12-9fabd9b73586  \n",
       "0                                -1.000                                  -1.0  \n",
       "1                                -1.000                                  -1.0  \n",
       "2                                 0.017                                   NaN  \n",
       "\n",
       "[3 rows x 50 columns]"
      ]
     },
     "execution_count": 39,
     "metadata": {},
     "output_type": "execute_result"
    }
   ],
   "source": [
    "pivot_df.head(3)"
   ]
  },
  {
   "cell_type": "code",
   "execution_count": 40,
   "metadata": {},
   "outputs": [
    {
     "name": "stdout",
     "output_type": "stream",
     "text": [
      "Размер датасета train: (16797, 50)\n",
      "Размер датасета test: (3684, 35)\n"
     ]
    }
   ],
   "source": [
    "print(f'Размер датасета train: {pivot_df.shape}')\n",
    "print(f'Размер датасета test: {pivot_df_test.shape}')"
   ]
  },
  {
   "cell_type": "markdown",
   "metadata": {},
   "source": [
    "В данный момент в наших смесях из трейн датасета здесь есть свойство-таргет, значение которого нужно занести в новую колонку"
   ]
  },
  {
   "cell_type": "markdown",
   "metadata": {},
   "source": [
    "Посмотрим на значения этого свойства для каждого бленда"
   ]
  },
  {
   "cell_type": "code",
   "execution_count": 41,
   "metadata": {},
   "outputs": [
    {
     "data": {
      "text/html": [
       "<div>\n",
       "<style scoped>\n",
       "    .dataframe tbody tr th:only-of-type {\n",
       "        vertical-align: middle;\n",
       "    }\n",
       "\n",
       "    .dataframe tbody tr th {\n",
       "        vertical-align: top;\n",
       "    }\n",
       "\n",
       "    .dataframe thead th {\n",
       "        text-align: right;\n",
       "    }\n",
       "</style>\n",
       "<table border=\"1\" class=\"dataframe\">\n",
       "  <thead>\n",
       "    <tr style=\"text-align: right;\">\n",
       "      <th></th>\n",
       "      <th>blend_id</th>\n",
       "      <th>oil_property_param_value</th>\n",
       "    </tr>\n",
       "  </thead>\n",
       "  <tbody>\n",
       "    <tr>\n",
       "      <th>42</th>\n",
       "      <td>007b4d7a-b1f8-11ed-93b4-005056921581</td>\n",
       "      <td>13360.0</td>\n",
       "    </tr>\n",
       "    <tr>\n",
       "      <th>70</th>\n",
       "      <td>04aed446-6beb-11ed-87f9-005056921581</td>\n",
       "      <td>7416.0</td>\n",
       "    </tr>\n",
       "  </tbody>\n",
       "</table>\n",
       "</div>"
      ],
      "text/plain": [
       "                                blend_id  oil_property_param_value\n",
       "42  007b4d7a-b1f8-11ed-93b4-005056921581                   13360.0\n",
       "70  04aed446-6beb-11ed-87f9-005056921581                    7416.0"
      ]
     },
     "execution_count": 41,
     "metadata": {},
     "output_type": "execute_result"
    }
   ],
   "source": [
    "pivot_df[pivot_df['oil_property_param_title'] == 'ad7e6027-00b8-4c27-918c-d1561f949ad8'][['blend_id', 'oil_property_param_value']].drop_duplicates().head(2)"
   ]
  },
  {
   "cell_type": "code",
   "execution_count": 43,
   "metadata": {},
   "outputs": [],
   "source": [
    "targets_values = pivot_df[pivot_df['oil_property_param_title'] == 'ad7e6027-00b8-4c27-918c-d1561f949ad8'][['blend_id', 'oil_property_param_value']].drop_duplicates()"
   ]
  },
  {
   "cell_type": "code",
   "execution_count": 44,
   "metadata": {},
   "outputs": [],
   "source": [
    "merged_df = pd.merge(pivot_df, targets_values, on='blend_id', how='left')"
   ]
  },
  {
   "cell_type": "code",
   "execution_count": 46,
   "metadata": {},
   "outputs": [],
   "source": [
    "merged_df = merged_df[merged_df['oil_property_param_title'] != 'ad7e6027-00b8-4c27-918c-d1561f949ad8']\n",
    "# Удалим строчки со свойствами-таргета"
   ]
  },
  {
   "cell_type": "code",
   "execution_count": 47,
   "metadata": {},
   "outputs": [],
   "source": [
    "merged_df = merged_df.rename(columns={'oil_property_param_value_y': 'target', 'oil_property_param_value_x': 'oil_property_param_value'})"
   ]
  },
  {
   "cell_type": "code",
   "execution_count": 65,
   "metadata": {},
   "outputs": [
    {
     "data": {
      "text/plain": [
       "(14716, 51)"
      ]
     },
     "execution_count": 65,
     "metadata": {},
     "output_type": "execute_result"
    }
   ],
   "source": [
    "merged_df.shape"
   ]
  },
  {
   "cell_type": "markdown",
   "metadata": {},
   "source": [
    "Добавим колонку target заполненную nan к pivot_df_test"
   ]
  },
  {
   "cell_type": "code",
   "execution_count": 51,
   "metadata": {},
   "outputs": [],
   "source": [
    "pivot_df_test['target'] = np.nan"
   ]
  },
  {
   "cell_type": "code",
   "execution_count": 52,
   "metadata": {},
   "outputs": [],
   "source": [
    "final_df = pd.concat([merged_df, pivot_df_test], ignore_index=True)"
   ]
  },
  {
   "cell_type": "code",
   "execution_count": 54,
   "metadata": {},
   "outputs": [
    {
     "data": {
      "text/plain": [
       "(18400, 67)"
      ]
     },
     "execution_count": 54,
     "metadata": {},
     "output_type": "execute_result"
    }
   ],
   "source": [
    "final_df.shape"
   ]
  },
  {
   "cell_type": "code",
   "execution_count": 61,
   "metadata": {},
   "outputs": [
    {
     "data": {
      "text/plain": [
       "{'oil_type': 0,\n",
       " 'blend_id': 0,\n",
       " 'oil_property_param_title': 0,\n",
       " 'oil_property_param_value': 0,\n",
       " 'component_name': 0,\n",
       " 'component_class': 0,\n",
       " 'smiles': 0,\n",
       " '009c5608-34ee-44ec-a294-a6252d691af3': 12143,\n",
       " '02236ee6-5eec-4368-a2e4-6f2e73fb0f96': 12697,\n",
       " '0817d2c9-2478-40d2-aab3-6b055f8071f0': 9809,\n",
       " '08db8d40-6b81-44ab-ab91-4b482ebc4187': 11641,\n",
       " '0bede6ba-5118-4a24-8c61-4df27f5746d7': 18002,\n",
       " '0ec6a170-4283-4466-8e16-ab71675053d6': 9809,\n",
       " '1931ea10-9783-4065-a77c-04532d7d0559': 9809,\n",
       " '1a8ce77b-9eac-489d-b6fc-4d7df0b74092': 18321,\n",
       " '1da38bd4-1cca-467b-b480-76c4fac65d5f': 9809,\n",
       " '2511714c-ab50-4566-bc92-8e4095d87d01': 12697,\n",
       " '266a1a34-14d1-49f7-b1ca-d354f9ff6ce8': 9809,\n",
       " '2a6e6683-e8f2-49ae-8114-b752a1e97c60': 9809,\n",
       " '2caf7dfa-de92-43ba-811d-ce9bbac9443a': 18345,\n",
       " '38b06d9a-bcf2-40de-8e1b-9c3988c42406': 4108,\n",
       " '3f7871a6-3ebc-4d7c-a5c4-3867820048e1': 18343,\n",
       " '5495e254-d5be-40ab-a96a-bb5da1c4da57': 9809,\n",
       " '594a3970-ec4a-48bb-bd37-c00e2ce90d83': 11641,\n",
       " '59fae799-21eb-4093-b36a-5a9dc69119f7': 10653,\n",
       " '733eb700-e7a9-45de-bc8e-3bb15b7f5852': 18288,\n",
       " '74a59a22-3ccd-4d6e-9e3e-f9c77a9ccfbd': 9809,\n",
       " '7eddcad3-d00a-47b8-837c-79a18ac868c3': 4021,\n",
       " '8290706a-4124-4fef-a0d0-553541fc844a': 18158,\n",
       " '89b4c419-0082-4f0a-b411-81487c96b76c': 12697,\n",
       " '89bf1ac2-0a0b-4e3e-8a75-7b364c2d0558': 12644,\n",
       " '8b0f4e99-1666-48b5-a378-c87b80ed97a9': 3684,\n",
       " '908bf166-393a-4e90-93d8-5d7b9944d637': 11641,\n",
       " '9703e283-f529-4fdb-8d84-24413b2b4338': 4108,\n",
       " '99b4f14e-593a-400b-a294-fe040d0e8923': 10167,\n",
       " '9c983e26-64ad-4505-9c8a-8b7d65922e2c': 12136,\n",
       " 'a51e86b9-4811-475b-81d6-9af4fa2f5cf8': 18397,\n",
       " 'a59e9688-c5e5-4488-a911-2fc21e0355be': 4108,\n",
       " 'af687034-57b7-4f6c-b454-dcf0fa322978': 18382,\n",
       " 'bc964980-3479-4d83-ae4e-154509b06ebc': 10781,\n",
       " 'c11112c4-487f-4e2c-812d-84a29b240b69': 9809,\n",
       " 'd037c9ef-a6e1-4328-832a-9db50bbb92af': 9809,\n",
       " 'd12a35d5-14a3-4828-9c59-bff8e912034d': 11641,\n",
       " 'dc511668-8a45-42ae-ab39-aeadd5f3a0f3': 12564,\n",
       " 'dc908e5f-ccb4-44cb-a605-985ebf5b0d1c': 18328,\n",
       " 'de405dfd-ef89-4b81-80f0-c25147817cdc': 18153,\n",
       " 'e1e7b28a-e529-4e7a-8d60-3e24178ac9fe': 9809,\n",
       " 'e3983d82-8773-4e46-8f88-147098d7b87a': 10532,\n",
       " 'f216a0c7-d453-4b15-9b4a-7647cbe2d874': 4108,\n",
       " 'f400be8b-3bed-4f17-8a12-9fabd9b73586': 9809,\n",
       " 'target': 3684,\n",
       " '00f815e2-e93a-4bac-9e2b-9733d77ab1ea': 17135,\n",
       " '049e5cb9-9c20-438c-9ef2-96870712a0be': 17135,\n",
       " '161776ad-2131-4557-a1f2-995bacb90bf0': 16171,\n",
       " '33fd9876-db06-478c-8993-17dd5d9d698a': 16636,\n",
       " '4c7a51f1-dc82-41dc-92fa-772535c2c70c': 14787,\n",
       " '50d7e65f-df1c-4e73-8961-9608846cf1d3': 16947,\n",
       " '53d6b944-dbbd-40ee-a5b3-89bd0c983ab9': 18364,\n",
       " '5cf8e492-dfea-4ecb-8799-a97989c46256': 17193,\n",
       " '5f1a9612-c626-4f94-8e98-6a103e4f07ef': 17207,\n",
       " '76287f81-2806-481a-8dc6-7274a761e2f9': 18376,\n",
       " '7fa1099c-cc3d-4bc2-ab0b-daa4fce8002e': 16316,\n",
       " '7fde038e-937b-4420-a4de-daf51b2ab54a': 16897,\n",
       " '9e2de643-ddca-487e-b9e7-69b25d8662bf': 17193,\n",
       " 'd6eff30f-788e-48a2-b2bd-cbba188f4e63': 17135,\n",
       " 'ebe9475f-b29f-4ffd-86af-a16a8321f1ee': 18334,\n",
       " 'f6cc205c-a44d-40e5-9462-2eab4a673e2a': 17135}"
      ]
     },
     "execution_count": 61,
     "metadata": {},
     "output_type": "execute_result"
    }
   ],
   "source": [
    "final_df.isna().sum().to_dict()"
   ]
  },
  {
   "cell_type": "code",
   "execution_count": 62,
   "metadata": {},
   "outputs": [],
   "source": [
    "train_df = final_df[~pd.isna(final_df['target'])]\n",
    "test_df = final_df[pd.isna(final_df['target'])] "
   ]
  },
  {
   "cell_type": "code",
   "execution_count": 64,
   "metadata": {},
   "outputs": [
    {
     "data": {
      "text/plain": [
       "(14716, 67)"
      ]
     },
     "execution_count": 64,
     "metadata": {},
     "output_type": "execute_result"
    }
   ],
   "source": [
    "train_df.shape"
   ]
  },
  {
   "cell_type": "code",
   "execution_count": 66,
   "metadata": {},
   "outputs": [],
   "source": [
    "train_df.to_csv('data/train_preprocessed.csv', index=False)\n",
    "test_df.to_csv('data/test_preprocessed.csv', index=False)"
   ]
  }
 ],
 "metadata": {
  "kernelspec": {
   "display_name": ".venv",
   "language": "python",
   "name": "python3"
  },
  "language_info": {
   "codemirror_mode": {
    "name": "ipython",
    "version": 3
   },
   "file_extension": ".py",
   "mimetype": "text/x-python",
   "name": "python",
   "nbconvert_exporter": "python",
   "pygments_lexer": "ipython3",
   "version": "3.12.2"
  }
 },
 "nbformat": 4,
 "nbformat_minor": 2
}
